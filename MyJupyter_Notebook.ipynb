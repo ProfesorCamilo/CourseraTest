{
 "cells": [
  {
   "cell_type": "markdown",
   "metadata": {
    "collapsed": true
   },
   "source": [
    "# My Jupyter Notebook on IBM Watson Studio"
   ]
  },
  {
   "cell_type": "markdown",
   "metadata": {},
   "source": [
    "**Camilo Navarrete, \n",
    "Data Scientist** "
   ]
  },
  {
   "cell_type": "markdown",
   "metadata": {},
   "source": [
    "_I am a versatile profesional: Biochemistry and MGS in Phisiology, also I obtained a degree for High School teacher in Chemistry. After all my experience, I realize that what I did best was to analyze data. But, still I need better tools. I looking for new profesional horizonts in Data Science_ "
   ]
  },
  {
   "cell_type": "markdown",
   "metadata": {},
   "source": [
    "### This code is quite simple: It will select five random numbers between the 0 and 1000. Then it will print the sorting result."
   ]
  },
  {
   "cell_type": "code",
   "execution_count": 2,
   "metadata": {},
   "outputs": [
    {
     "name": "stdout",
     "output_type": "stream",
     "text": [
      "[150, 537, 789, 794, 934]\n"
     ]
    }
   ],
   "source": [
    "import random\n",
    "\n",
    "def listRandom(n):\n",
    "      list = [0]  * n\n",
    "      for i in range(n):\n",
    "          list[i] = random.randint(0, 1000)\n",
    "      return list\n",
    "\n",
    "list = listRandom(5)\n",
    "\n",
    "for i in range(len(list)):\n",
    "    for j in range(len(list)):\n",
    "        if list[j]>list[i]:\n",
    "            k = list[i]\n",
    "            list[i] = list[j]\n",
    "            list[j] = k\n",
    "print(list)\n"
   ]
  },
  {
   "cell_type": "markdown",
   "metadata": {},
   "source": [
    "---\n",
    "![Sorting](https://logicmojo.com/assets/dist/new_pages/images/sort-algo.png)\n",
    "[https://en.wikipedia.org/wiki/Bubble_sort]"
   ]
  }
 ],
 "metadata": {
  "kernelspec": {
   "display_name": "Python 3.10",
   "language": "python",
   "name": "python3"
  },
  "language_info": {
   "codemirror_mode": {
    "name": "ipython",
    "version": 3
   },
   "file_extension": ".py",
   "mimetype": "text/x-python",
   "name": "python",
   "nbconvert_exporter": "python",
   "pygments_lexer": "ipython3",
   "version": "3.10.6"
  }
 },
 "nbformat": 4,
 "nbformat_minor": 1
}
